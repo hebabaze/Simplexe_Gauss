{
  "nbformat": 4,
  "nbformat_minor": 0,
  "metadata": {
    "colab": {
      "name": "Simplexe Gauss.ipynb",
      "provenance": [],
      "collapsed_sections": [],
      "authorship_tag": "ABX9TyNRJourlyy0gALZEjLwFqxo",
      "include_colab_link": true
    },
    "kernelspec": {
      "name": "python3",
      "display_name": "Python 3"
    }
  },
  "cells": [
    {
      "cell_type": "markdown",
      "metadata": {
        "id": "view-in-github",
        "colab_type": "text"
      },
      "source": [
        "<a href=\"https://colab.research.google.com/github/hebabaze/programmation-lin-aire/blob/master/Simplexe_Gauss.ipynb\" target=\"_parent\"><img src=\"https://colab.research.google.com/assets/colab-badge.svg\" alt=\"Open In Colab\"/></a>"
      ]
    },
    {
      "cell_type": "markdown",
      "metadata": {
        "id": "I1e1X0KTchC8",
        "colab_type": "text"
      },
      "source": [
        "# Bloc d'exécution"
      ]
    },
    {
      "cell_type": "code",
      "metadata": {
        "id": "UhSAUUc7cmdL",
        "colab_type": "code",
        "colab": {}
      },
      "source": [
        "# Main Fonction \n",
        "def gauss(M):\n",
        "  result={'X':0,'Y':0,'Z' :0}\n",
        "  while iterate(M):\n",
        "    #print(M)\n",
        "    pivot(M)\n",
        "  result['X']=M[0][len(M[0])-1]\n",
        "  result['Y']=M[1][len(M[0])-1]\n",
        "  result['Z']=M[len(M)-1][len(M[0])-1]*-1\n",
        "  return M,result"
      ],
      "execution_count": 0,
      "outputs": []
    },
    {
      "cell_type": "code",
      "metadata": {
        "id": "U4_qcfSCcsk4",
        "colab_type": "code",
        "colab": {}
      },
      "source": [
        "M2=[[1,0.5,1,0,0,100],\n",
        "    [0.2,0.15,0,1,0,25],\n",
        "    [0,1,0,0,1,160],\n",
        "    [1.5,0.9,0,0,0,0]]\n",
        "gauss(M2)"
      ],
      "execution_count": 0,
      "outputs": []
    },
    {
      "cell_type": "markdown",
      "metadata": {
        "id": "3bMgH2Jac2DH",
        "colab_type": "text"
      },
      "source": [
        "# Bloc des Fonctions utilisées"
      ]
    },
    {
      "cell_type": "code",
      "metadata": {
        "id": "SqpbjNkTu9Te",
        "colab_type": "code",
        "colab": {}
      },
      "source": [
        "from __future__ import division\n",
        "def iterate(M):                         # verifier si on doit continue l'itération ou non \n",
        "  m=len(M)\n",
        "  for x in M[m-1]:\n",
        "    if x > 0:\n",
        "      return True \n",
        "  return False\n",
        "def pivot(M):\n",
        "  def pivotchoice(M):                   #Function : Séléction de pivot \n",
        "    n=len(M[0])\n",
        "    m=len(M)\n",
        "    cp=M[m-1].index(max(M[m-1]))        # Sélctionner la colonne de pivot\n",
        "    rapport=[]\n",
        "    for x in M[:-1]:\n",
        "      if x[cp]==0:\n",
        "        rapport.append(9999)\n",
        "      else:\n",
        "        rapport.append(x[n-1]/x[cp])\n",
        "    lp=rapport.index(min(rapport))      # Sélectionner la ligne de pivot \n",
        "    pivot=M[lp][cp]                     # Sélectionner le pivot \n",
        "    return M,lp,cp,pivot\n",
        "  M,lp,cp,pivot=pivotchoice(M)\n",
        "  def pcolumntozero(M,lp,cp,pivot):                 # Fonction pour remettre la colonne de Pivot à zéro \n",
        "    for i in [x for x in range(len(M)) if x!=lp]:   # exclus la ligne de pivot \n",
        "      cte=M[i][cp]                                  # définir une constante \n",
        "      for j in range(cp,len(M[0])): \n",
        "        M[i][j]=round(M[i][j]-((cte/pivot)*M[lp][j]),2)     # Rénitialiser la colonne de pivot\n",
        "    return M\n",
        "  M=pcolumntozero(M,lp,cp,pivot)\n",
        "  def diviser(l,lp,cp,pivot):                               #Fonction pour déviser la ligne de pivot\n",
        "    n=len(l[lp])\n",
        "    for j in range (0,n):\n",
        "      l[lp][j]=(l[lp][j]/pivot)\n",
        "    pivot=1\n",
        "    return l\n",
        "  return diviser(M,lp,cp,pivot)\n"
      ],
      "execution_count": 0,
      "outputs": []
    }
  ]
}